{
 "cells": [
  {
   "cell_type": "code",
   "execution_count": 1,
   "metadata": {},
   "outputs": [],
   "source": [
    "import argparse\n",
    "import datetime as DT\n",
    "\n",
    "from apiclient.discovery import build\n",
    "import httplib2\n",
    "from oauth2client import client\n",
    "from oauth2client import file\n",
    "from oauth2client import tools\n",
    "\n",
    "import re\n",
    "import itertools"
   ]
  },
  {
   "cell_type": "code",
   "execution_count": 2,
   "metadata": {},
   "outputs": [],
   "source": [
    "SCOPES = ['https://www.googleapis.com/auth/analytics.readonly']\n",
    "DISCOVERY_URI = ('https://analyticsreporting.googleapis.com/$discovery/rest')\n",
    "CLIENT_SECRETS_PATH = 'client_secrets.json' # Path to client_secrets.json file.\n",
    "VIEW_ID = '157208265'"
   ]
  },
  {
   "cell_type": "code",
   "execution_count": 3,
   "metadata": {},
   "outputs": [],
   "source": [
    "def initialize_analyticsreporting():\n",
    "    # Set up a Flow object to be used if we need to authenticate.\n",
    "    flow = client.flow_from_clientsecrets(\n",
    "                    CLIENT_SECRETS_PATH, scope=SCOPES,\n",
    "                    message=tools.message_if_missing(CLIENT_SECRETS_PATH))\n",
    "\n",
    "    # Dummy command line args\n",
    "    parser = argparse.ArgumentParser(\n",
    "                    formatter_class=argparse.RawDescriptionHelpFormatter,\n",
    "                    parents=[tools.argparser])\n",
    "    flags = parser.parse_args([])\n",
    "\n",
    "    # Prepare credentials, and authorize HTTP object with them.\n",
    "    # If the credentials don't exist or are invalid run through the native client\n",
    "    # flow. The Storage object will ensure that if successful the good\n",
    "    # credentials will get written back to a file.\n",
    "    storage = file.Storage('analyticsreporting.dat')\n",
    "    credentials = storage.get()\n",
    "    if credentials is None or credentials.invalid:\n",
    "        credentials = tools.run_flow(flow, storage, flags)\n",
    "    http = credentials.authorize(http=httplib2.Http())\n",
    "\n",
    "    # Build the service object.\n",
    "    analytics = build('analytics', 'v4', http=http, discoveryServiceUrl=DISCOVERY_URI)\n",
    "\n",
    "    return analytics"
   ]
  },
  {
   "cell_type": "code",
   "execution_count": 85,
   "metadata": {},
   "outputs": [],
   "source": [
    "def get_report(analytics, dimensions=[], metrics=[], filters=[]):\n",
    "    # Use the Analytics Service Object to query the Analytics Reporting API V4.\n",
    "    return analytics.reports().batchGet(\n",
    "        body={\n",
    "        'reportRequests': [\n",
    "            {\n",
    "                'viewId': VIEW_ID,\n",
    "                'dateRanges': [{'startDate': startDate, 'endDate': endDate}],\n",
    "                'dimensions': dimensions,\n",
    "                'metrics': metrics,\n",
    "                'dimensionFilterClauses': filters\n",
    "            }]\n",
    "        }\n",
    "    ).execute()"
   ]
  },
  {
   "cell_type": "code",
   "execution_count": 86,
   "metadata": {},
   "outputs": [],
   "source": [
    "def print_response(response, funnel):\n",
    "  \"\"\"Parses and prints the Analytics Reporting API V4 response\"\"\"\n",
    "\n",
    "  for report in response.get('reports', []):\n",
    "    columnHeader = report.get('columnHeader', {})\n",
    "    dimensionHeaders = columnHeader.get('dimensions', [])\n",
    "    metricHeaders = columnHeader.get('metricHeader', {}).get('metricHeaderEntries', [])\n",
    "    rows = report.get('data', {}).get('rows', [])\n",
    "\n",
    "    for row in rows:\n",
    "      dimensions = row.get('dimensions', [])\n",
    "      dateRangeValues = row.get('metrics', [])\n",
    "\n",
    "      for header, dimension in zip(dimensionHeaders, dimensions):\n",
    "        print (header + ': ' + dimension)\n",
    "\n",
    "      for i, values in enumerate(dateRangeValues):\n",
    "        for metricHeader, value in zip(metricHeaders, values.get('values')):\n",
    "          print (funnel + ': ' + value)"
   ]
  },
  {
   "cell_type": "code",
   "execution_count": 91,
   "metadata": {},
   "outputs": [
    {
     "name": "stdout",
     "output_type": "stream",
     "text": [
      "clicked on premium data banner links: 1\n"
     ]
    }
   ],
   "source": [
    "startDate = 'yesterday'\n",
    "endDate = startDate\n",
    "analytics = initialize_analyticsreporting()\n",
    "\n",
    "def incoming_user():\n",
    "    dimensions = []\n",
    "    metrics = [{'expression': 'ga:uniquePageviews'}]\n",
    "    filters = [\n",
    "        {'filters': [{'dimensionName': 'ga:pagePath', 'expressions': '/core/.+'}]}\n",
    "    ]\n",
    "    response = get_report(analytics, dimensions, metrics, filters)\n",
    "    print_response(response, 'incoming user')\n",
    "    \n",
    "incoming_user()\n",
    "\n",
    "def interacting_user():\n",
    "    dimensions = []\n",
    "    metrics = [{'expression': 'ga:uniqueEvents'}]\n",
    "    filters = [\n",
    "        {'filters': [{'dimensionName': 'ga:eventCategory', 'expressions': 'scroll depth'}]},\n",
    "        {'filters': [{'dimensionName': 'ga:eventLabel', 'expressions': '25'}]}\n",
    "    ]\n",
    "    response = get_report(analytics, dimensions, metrics, filters)\n",
    "    print_response(response, 'interacting user')\n",
    "    filters = [\n",
    "        {'filters': [{'dimensionName': 'ga:eventLabel', 'expressions': '/core/.+'}]},\n",
    "        {'filters': [{'dimensionName': 'ga:pagePath', 'expressions': '/core/.+'}]}\n",
    "    ]\n",
    "    response = get_report(analytics, dimensions, metrics, filters)\n",
    "    print_response(response, 'heavily interacting user')\n",
    "\n",
    "interacting_user()\n",
    "\n",
    "def interested_user():\n",
    "    dimensions = []\n",
    "    metrics = [{'expression': 'ga:uniqueEvents'}]\n",
    "    filters = [\n",
    "        {'filters': [{'dimensionName': 'ga:eventCategory', 'expressions': 'showcase'}]},\n",
    "        {'filters': [{'dimensionName': 'ga:eventAction', 'expressions': 'click'}]},\n",
    "        {'filters': [{'dimensionName': 'ga:eventLabel', 'expressions': 'premium-data-offer'}]}\n",
    "    ]\n",
    "    response = get_report(analytics, dimensions, metrics, filters)\n",
    "    print_response(response, 'interested user')\n",
    "    \n",
    "interested_user()\n",
    "    "
   ]
  },
  {
   "cell_type": "code",
   "execution_count": null,
   "metadata": {},
   "outputs": [],
   "source": []
  }
 ],
 "metadata": {
  "kernelspec": {
   "display_name": "Python 3",
   "language": "python",
   "name": "python3"
  },
  "language_info": {
   "codemirror_mode": {
    "name": "ipython",
    "version": 3
   },
   "file_extension": ".py",
   "mimetype": "text/x-python",
   "name": "python",
   "nbconvert_exporter": "python",
   "pygments_lexer": "ipython3",
   "version": "3.6.2"
  }
 },
 "nbformat": 4,
 "nbformat_minor": 2
}
