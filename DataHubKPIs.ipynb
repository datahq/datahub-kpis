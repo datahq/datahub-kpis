{
 "cells": [
  {
   "cell_type": "code",
   "execution_count": 17,
   "metadata": {},
   "outputs": [],
   "source": [
    "import argparse\n",
    "import datetime as DT\n",
    "\n",
    "from apiclient.discovery import build\n",
    "import httplib2\n",
    "from oauth2client import client\n",
    "from oauth2client import file\n",
    "from oauth2client import tools\n",
    "\n",
    "import re\n",
    "import itertools"
   ]
  },
  {
   "cell_type": "code",
   "execution_count": 18,
   "metadata": {},
   "outputs": [],
   "source": [
    "SCOPES = ['https://www.googleapis.com/auth/analytics.readonly']\n",
    "DISCOVERY_URI = ('https://analyticsreporting.googleapis.com/$discovery/rest')\n",
    "CLIENT_SECRETS_PATH = 'client_secrets.json' # Path to client_secrets.json file.\n",
    "VIEW_ID = '157208265'"
   ]
  },
  {
   "cell_type": "code",
   "execution_count": 19,
   "metadata": {},
   "outputs": [],
   "source": [
    "def initialize_analyticsreporting():\n",
    "    # Set up a Flow object to be used if we need to authenticate.\n",
    "    flow = client.flow_from_clientsecrets(\n",
    "                    CLIENT_SECRETS_PATH, scope=SCOPES,\n",
    "                    message=tools.message_if_missing(CLIENT_SECRETS_PATH))\n",
    "\n",
    "    # Dummy command line args\n",
    "    parser = argparse.ArgumentParser(\n",
    "                    formatter_class=argparse.RawDescriptionHelpFormatter,\n",
    "                    parents=[tools.argparser])\n",
    "    flags = parser.parse_args([])\n",
    "\n",
    "    # Prepare credentials, and authorize HTTP object with them.\n",
    "    # If the credentials don't exist or are invalid run through the native client\n",
    "    # flow. The Storage object will ensure that if successful the good\n",
    "    # credentials will get written back to a file.\n",
    "    storage = file.Storage('analyticsreporting.dat')\n",
    "    credentials = storage.get()\n",
    "    if credentials is None or credentials.invalid:\n",
    "        credentials = tools.run_flow(flow, storage, flags)\n",
    "    http = credentials.authorize(http=httplib2.Http())\n",
    "\n",
    "    # Build the service object.\n",
    "    analytics = build('analytics', 'v4', http=http, discoveryServiceUrl=DISCOVERY_URI)\n",
    "\n",
    "    return analytics"
   ]
  },
  {
   "cell_type": "code",
   "execution_count": 90,
   "metadata": {},
   "outputs": [
    {
     "name": "stdout",
     "output_type": "stream",
     "text": [
      "2018-04-25\n"
     ]
    }
   ],
   "source": [
    "today = DT.date.today()\n",
    "week_ago = today - DT.timedelta(days=1)\n",
    "\n",
    "startDate = week_ago.strftime('%Y-%m-%d')\n",
    "endDate = startDate"
   ]
  },
  {
   "cell_type": "code",
   "execution_count": 91,
   "metadata": {},
   "outputs": [],
   "source": [
    "def get_all_new_users(analytics):\n",
    "    # Use the Analytics Service Object to query the Analytics Reporting API V4.\n",
    "    return analytics.reports().batchGet(\n",
    "        body={\n",
    "        'reportRequests': [\n",
    "            {\n",
    "                'viewId': VIEW_ID,\n",
    "                'dateRanges': [{'startDate': startDate, 'endDate': endDate}],\n",
    "                'dimensions': [],\n",
    "                'metrics': [{'expression': 'ga:newUsers'}],\n",
    "            }]\n",
    "        }\n",
    "    ).execute()"
   ]
  },
  {
   "cell_type": "code",
   "execution_count": 92,
   "metadata": {},
   "outputs": [],
   "source": [
    "def get_new_users_event_report(analytics):\n",
    "    # Use the Analytics Service Object to query the Analytics Reporting API V4.\n",
    "    return analytics.reports().batchGet(\n",
    "        body={\n",
    "        'reportRequests': [\n",
    "            {\n",
    "                'viewId': VIEW_ID,\n",
    "                'dateRanges': [{'startDate': startDate, 'endDate': endDate}],\n",
    "                'dimensions': [{'name': 'ga:eventCategory'}, {'name': 'ga:eventAction'}, {'name': 'ga:eventLabel'}],\n",
    "                'metrics': [{'expression': 'ga:newUsers'}],\n",
    "            }]\n",
    "        }\n",
    "    ).execute()"
   ]
  },
  {
   "cell_type": "code",
   "execution_count": 93,
   "metadata": {},
   "outputs": [],
   "source": [
    "def get_all_pages(analytics):\n",
    "    # Use the Analytics Service Object to query the Analytics Reporting API V4.\n",
    "    return analytics.reports().batchGet(\n",
    "        body={\n",
    "        'reportRequests': [\n",
    "            {\n",
    "                'viewId': VIEW_ID,\n",
    "                'dateRanges': [{'startDate': startDate, 'endDate': endDate}],\n",
    "                'dimensions': [{'name': 'ga:pagePath'}],\n",
    "                'metrics': [],\n",
    "            }]\n",
    "        }\n",
    "    ).execute()"
   ]
  },
  {
   "cell_type": "code",
   "execution_count": 94,
   "metadata": {},
   "outputs": [],
   "source": [
    "def parse_response(response):\n",
    "    \"\"\"Parses and prints the Analytics Reporting API V4 response\"\"\"\n",
    "\n",
    "    for report in response.get('reports', []):\n",
    "        columnHeader = report.get('columnHeader', {})\n",
    "        dimensionHeaders = columnHeader.get('dimensions', [])\n",
    "        metricHeaders = columnHeader.get('metricHeader', {}).get('metricHeaderEntries', [])\n",
    "        rows = report.get('data', {}).get('rows', [])\n",
    "\n",
    "        for row in rows:\n",
    "            dimensions = row.get('dimensions', [])\n",
    "            dateRangeValues = row.get('metrics', [])\n",
    "\n",
    "            desc = {}\n",
    "            ret = [desc]\n",
    "            \n",
    "            for header, dimension in zip(dimensionHeaders, dimensions):\n",
    "                desc[header] = dimension\n",
    "\n",
    "            values = dateRangeValues[0].get('values')\n",
    "            ret.append(dict(\n",
    "                (metricHeader.get('name'), int(value))\n",
    "                for metricHeader, value in zip(metricHeaders, values)\n",
    "            ))\n",
    "            \n",
    "            yield ret"
   ]
  },
  {
   "cell_type": "code",
   "execution_count": 95,
   "metadata": {},
   "outputs": [],
   "source": [
    "def event(cat, act, lbl):\n",
    "    cat, act, lbl = re.compile(cat), re.compile(act), re.compile(lbl)\n",
    "    def func(dims):\n",
    "        return ('ga:eventCategory' in dims and\n",
    "                cat.match(dims['ga:eventCategory']) and\n",
    "                'ga:eventAction' in dims and\n",
    "                act.match(dims['ga:eventAction']) and\n",
    "                'ga:eventLabel' in dims and\n",
    "                lbl.match(dims['ga:eventLabel']))\n",
    "    return func"
   ]
  },
  {
   "cell_type": "code",
   "execution_count": 96,
   "metadata": {},
   "outputs": [],
   "source": [
    "def path(path):\n",
    "    path = re.compile(path)\n",
    "    def func(dims):\n",
    "        return ('ga:pagePath' in dims and\n",
    "                path.match(dims['ga:pagePath']))\n",
    "    return func"
   ]
  },
  {
   "cell_type": "code",
   "execution_count": 97,
   "metadata": {},
   "outputs": [],
   "source": [
    "def nodims():\n",
    "    def func(dims):\n",
    "        return not dims\n",
    "    return func"
   ]
  },
  {
   "cell_type": "code",
   "execution_count": 110,
   "metadata": {},
   "outputs": [],
   "source": [
    "import json\n",
    "def get_npm_stats():\n",
    "    h = httplib2.Http('.cache')\n",
    "    resp, content = h.request(f'https://api.npmjs.org/downloads/point/{startDate}/data-cli', 'GET')\n",
    "    dict_content = json.loads(content)\n",
    "    return ('99 - NPM installs', dict_content['downloads'])"
   ]
  },
  {
   "cell_type": "code",
   "execution_count": 111,
   "metadata": {},
   "outputs": [],
   "source": [
    "FUNNEL = [\n",
    "    ('Total new users in the site',\n",
    "         nodims(),\n",
    "         'ga:newUsers'),\n",
    "    ('Clicks on \"download\" from anywhere', \n",
    "         event('outbound', 'click', 'https://datahub.io/download'), \n",
    "         'ga:newUsers'),\n",
    "    ('CLI downloads (from web)', \n",
    "         event('outbound', 'click', 'https://github.com/datahq/data-cli/releases/download/.+'),\n",
    "         'ga:newUsers'),\n",
    "    ('First run of the CLI', \n",
    "         event('cli', 'first-run', '.*'),\n",
    "         'ga:newUsers'),\n",
    "    ('Total pushes from the CLI', \n",
    "         event('cli', 'push', '.*'), \n",
    "         'ga:newUsers'),\n",
    "    ('Successful pushes from the CLI',\n",
    "         event('cli', 'push-success', '.*'),\n",
    "         'ga:newUsers'),\n",
    "    ('First pushes from the CLI',\n",
    "         event('cli', 'push-first', '.*'),\n",
    "         'ga:newUsers'),\n",
    "    ('Visit the showcase after push - method 1', \n",
    "         path('/[^/]+/[^/]+/v/[0-9]+'), \n",
    "         'count'),\n",
    "    ('Visit the showcase after push - method 2', \n",
    "         event('showcase', 'visit', 'cli'), \n",
    "         'count')\n",
    "]"
   ]
  },
  {
   "cell_type": "code",
   "execution_count": 112,
   "metadata": {},
   "outputs": [],
   "source": [
    "def extract_funnel(rows):\n",
    "    funnel = [\n",
    "        ('%02d - %s' % (i, title),\n",
    "         func,\n",
    "         met)\n",
    "        for i, (title, func, met) in enumerate(FUNNEL)\n",
    "    ]\n",
    "    ret = {}\n",
    "    for dims, mets in rows:\n",
    "        for title, func, met in funnel:\n",
    "            if func(dims):\n",
    "                if met in mets:\n",
    "                    ret.setdefault(title, 0)\n",
    "                    ret[title] += mets.get(met)\n",
    "                elif met == 'count':\n",
    "                    ret.setdefault(title, 0)\n",
    "                    ret[title] += 1\n",
    "            \n",
    "    return sorted(list(ret.items()))\n"
   ]
  },
  {
   "cell_type": "code",
   "execution_count": 113,
   "metadata": {},
   "outputs": [
    {
     "name": "stdout",
     "output_type": "stream",
     "text": [
      "      1137 - 00 - Total new users in the site\n",
      "        20 - 01 - Clicks on \"download\" from anywhere\n",
      "         4 - 02 - CLI downloads (from web)\n",
      "         1 - 03 - First run of the CLI\n",
      "         2 - 07 - Visit the showcase after push - method 1\n",
      "         1 - 99 - NPM installs\n"
     ]
    }
   ],
   "source": [
    "analytics = initialize_analyticsreporting()\n",
    "response = itertools.chain(*(\n",
    "    parse_response(r(analytics))\n",
    "    for r in [\n",
    "        get_new_users_event_report,\n",
    "        get_all_pages,\n",
    "        get_all_new_users,\n",
    "    ]\n",
    "))\n",
    "funnel = extract_funnel(response)\n",
    "npm_stats = get_npm_stats()\n",
    "funnel.append(npm_stats)\n",
    "for t, a in funnel:\n",
    "    print('%10d - %s' % (a, t))"
   ]
  },
  {
   "cell_type": "code",
   "execution_count": null,
   "metadata": {
    "collapsed": true
   },
   "outputs": [],
   "source": []
  },
  {
   "cell_type": "code",
   "execution_count": null,
   "metadata": {
    "collapsed": true
   },
   "outputs": [],
   "source": []
  }
 ],
 "metadata": {
  "kernelspec": {
   "display_name": "Python 3",
   "language": "python",
   "name": "python3"
  },
  "language_info": {
   "codemirror_mode": {
    "name": "ipython",
    "version": 3
   },
   "file_extension": ".py",
   "mimetype": "text/x-python",
   "name": "python",
   "nbconvert_exporter": "python",
   "pygments_lexer": "ipython3",
   "version": "3.6.2"
  }
 },
 "nbformat": 4,
 "nbformat_minor": 2
}
